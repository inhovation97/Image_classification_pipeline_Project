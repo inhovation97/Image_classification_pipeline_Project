{
  "nbformat": 4,
  "nbformat_minor": 0,
  "metadata": {
    "colab": {
      "name": "pytorch_project_resnet50.ipynb",
      "provenance": [],
      "collapsed_sections": [],
      "mount_file_id": "1n42ewwLldqFsvfp1pA8UjZUV5RAalc9M",
      "authorship_tag": "ABX9TyOtqeOucOahyKt8HHfz9J8/",
      "include_colab_link": true
    },
    "kernelspec": {
      "name": "python3",
      "display_name": "Python 3"
    },
    "language_info": {
      "name": "python"
    },
    "accelerator": "GPU"
  },
  "cells": [
    {
      "cell_type": "markdown",
      "metadata": {
        "id": "view-in-github",
        "colab_type": "text"
      },
      "source": [
        "<a href=\"https://colab.research.google.com/github/inhovation97/personal_project/blob/main/pytorch/pytorch_project_resnet50.ipynb\" target=\"_parent\"><img src=\"https://colab.research.google.com/assets/colab-badge.svg\" alt=\"Open In Colab\"/></a>"
      ]
    },
    {
      "cell_type": "markdown",
      "metadata": {
        "id": "_5SyFDlRs8ze"
      },
      "source": [
        "# 이미지 데이터 파이토치 커스터마이징하기"
      ]
    },
    {
      "cell_type": "code",
      "metadata": {
        "id": "Th61J-4wtknJ"
      },
      "source": [
        "import torch\n",
        "import torchvision\n",
        "from torchvision import transforms # 이미지 데이터 transform\n",
        "from torch.utils.data import DataLoader # 이미지 데이터 로더\n",
        "import os\n",
        "import glob"
      ],
      "execution_count": null,
      "outputs": []
    },
    {
      "cell_type": "code",
      "metadata": {
        "id": "K0An2e3Nrq8H"
      },
      "source": [
        "device = 'cuda' if torch.cuda.is_available() else 'cpu'\n",
        "\n",
        "torch.manual_seed(777)\n",
        "if device == 'cuda':\n",
        "  torch.cuda.manual_seed_all(777)"
      ],
      "execution_count": null,
      "outputs": []
    },
    {
      "cell_type": "code",
      "metadata": {
        "id": "I77GUH6Qrq3T"
      },
      "source": [
        "# 경로 지정\n",
        "\n",
        "train_path = '/content/drive/MyDrive/파이토치/solo_project/train'\n",
        "test_path = '/content/drive/MyDrive/파이토치/solo_project/test'\n",
        "\n",
        "dolphin_dir = '/dolphin/'\n",
        "shark_dir = '/shark/'\n",
        "whale_dir = '/whale/'"
      ],
      "execution_count": null,
      "outputs": []
    },
    {
      "cell_type": "markdown",
      "metadata": {
        "id": "cN6uBbo5Iqlm"
      },
      "source": [
        "# 이미지 데이터 전처리   \n",
        "> 파이토치 라이브러리를 이용한 쉬운 방법 or albumentation 라이브러리를 이용한 데이터 커스터마이징 2가지 방식으로 진행합니다.\n",
        "\n",
        " 1. 이미지를 resize합니다.   \n",
        "    \n",
        " 2. resize한 이미지에 대해서 스케일링을 준비합니다.   \n",
        "    \n",
        " 3. 전처리한 이미지들을 augmentation해줍니다.   \n",
        "   \n",
        " 4. augmentation transform을 진행했으면, data loader로 학습을 준비합니다."
      ]
    },
    {
      "cell_type": "markdown",
      "metadata": {
        "id": "YTc559LqKV6z"
      },
      "source": [
        "## 파이토치 라이브러리를 이용해 쉽게 진행\n",
        "1. 이미지 resize & 스케일링\n",
        "> 꼭 resize를 진행한 이미지들을 스케일링 해줍니다.   "
      ]
    },
    {
      "cell_type": "code",
      "metadata": {
        "id": "FItktxnhh30j"
      },
      "source": [
        "resize_trans = transforms.Compose([\n",
        "                                   transforms.Resize((128,128)),\n",
        "                                   transforms.ToTensor()\n",
        "])\n",
        "\n",
        "resize_train = torchvision.datasets.ImageFolder(root=train_path, transform=resize_trans)\n",
        "resize_test = torchvision.datasets.ImageFolder(root=test_path, transform=resize_trans)"
      ],
      "execution_count": null,
      "outputs": []
    },
    {
      "cell_type": "code",
      "metadata": {
        "colab": {
          "base_uri": "https://localhost:8080/"
        },
        "id": "u48iThG_oD7q",
        "outputId": "fe6324bd-f700-406e-d585-9e8972eefc46"
      },
      "source": [
        "resize_train[0][0].shape # ToTensor를 진행했기 때문에 데이터가 torch(C,H,W) 형태로 바뀜"
      ],
      "execution_count": null,
      "outputs": [
        {
          "output_type": "execute_result",
          "data": {
            "text/plain": [
              "torch.Size([3, 128, 128])"
            ]
          },
          "metadata": {
            "tags": []
          },
          "execution_count": 605
        }
      ]
    },
    {
      "cell_type": "code",
      "metadata": {
        "colab": {
          "base_uri": "https://localhost:8080/"
        },
        "id": "jXASAt6-9hXv",
        "outputId": "0acee087-ead0-4c58-d260-fdd51a27fe7e"
      },
      "source": [
        "resize_train[0][0]"
      ],
      "execution_count": null,
      "outputs": [
        {
          "output_type": "execute_result",
          "data": {
            "text/plain": [
              "tensor([[[0.3451, 0.3882, 0.4118,  ..., 0.6549, 0.6549, 0.6627],\n",
              "         [0.3373, 0.3882, 0.4157,  ..., 0.6588, 0.6627, 0.6627],\n",
              "         [0.2510, 0.2941, 0.3137,  ..., 0.5647, 0.5843, 0.6118],\n",
              "         ...,\n",
              "         [0.1451, 0.1490, 0.1490,  ..., 0.2314, 0.2431, 0.2745],\n",
              "         [0.1686, 0.1647, 0.1608,  ..., 0.2510, 0.2588, 0.2784],\n",
              "         [0.1882, 0.1804, 0.1725,  ..., 0.2706, 0.2745, 0.2784]],\n",
              "\n",
              "        [[0.6706, 0.7137, 0.7333,  ..., 0.8706, 0.8627, 0.8588],\n",
              "         [0.6784, 0.7255, 0.7490,  ..., 0.8863, 0.8824, 0.8667],\n",
              "         [0.6118, 0.6510, 0.6706,  ..., 0.8078, 0.8196, 0.8314],\n",
              "         ...,\n",
              "         [0.6392, 0.6353, 0.6353,  ..., 0.6745, 0.6784, 0.6863],\n",
              "         [0.6431, 0.6392, 0.6392,  ..., 0.6784, 0.6784, 0.6824],\n",
              "         [0.6431, 0.6392, 0.6431,  ..., 0.6824, 0.6784, 0.6745]],\n",
              "\n",
              "        [[0.8549, 0.8980, 0.9176,  ..., 0.9412, 0.9451, 0.9608],\n",
              "         [0.8706, 0.9176, 0.9412,  ..., 0.9804, 0.9843, 0.9843],\n",
              "         [0.8196, 0.8627, 0.8824,  ..., 0.9451, 0.9569, 0.9804],\n",
              "         ...,\n",
              "         [0.8784, 0.8784, 0.8784,  ..., 0.9098, 0.9137, 0.9137],\n",
              "         [0.8941, 0.8902, 0.8902,  ..., 0.9137, 0.9137, 0.9059],\n",
              "         [0.9059, 0.9020, 0.8980,  ..., 0.9098, 0.9059, 0.8941]]])"
            ]
          },
          "metadata": {
            "tags": []
          },
          "execution_count": 606
        }
      ]
    },
    {
      "cell_type": "code",
      "metadata": {
        "colab": {
          "base_uri": "https://localhost:8080/"
        },
        "id": "sMiOxJFtn0OX",
        "outputId": "fba9811c-496e-4988-9f4f-bcc4015cfbe4"
      },
      "source": [
        "import numpy as np\n",
        "np.mean(resize_train[0][0].numpy(),axis=(1,2)) # numpy로 바꾸고, axis = 1,2 mean으로 RGB mean/std 뽑기"
      ],
      "execution_count": null,
      "outputs": [
        {
          "output_type": "execute_result",
          "data": {
            "text/plain": [
              "array([0.24158889, 0.564502  , 0.7419544 ], dtype=float32)"
            ]
          },
          "metadata": {
            "tags": []
          },
          "execution_count": 607
        }
      ]
    },
    {
      "cell_type": "code",
      "metadata": {
        "id": "QGYovru-h3w-"
      },
      "source": [
        "def get_mean_std(dataset):\n",
        "  meanRGB = [np.mean(image.numpy(), axis=(1,2)) for image,_ in dataset]\n",
        "  stdRGB = [np.std(image.numpy(), axis=(1,2)) for image,_ in dataset]\n",
        "\n",
        "  meanR = np.mean([m[0] for m in meanRGB])\n",
        "  meanG = np.mean([m[1] for m in meanRGB])\n",
        "  meanB = np.mean([m[2] for m in meanRGB])\n",
        "\n",
        "  stdR = np.mean([s[0] for s in stdRGB])\n",
        "  stdG = np.mean([s[1] for s in stdRGB])\n",
        "  stdB = np.mean([s[2] for s in stdRGB])\n",
        "\n",
        "  print(meanR, meanG, meanB)\n",
        "  print(stdR, stdG, stdB)"
      ],
      "execution_count": null,
      "outputs": []
    },
    {
      "cell_type": "code",
      "metadata": {
        "id": "IRpbrXwmDU3A"
      },
      "source": [
        "#get_mean_std(resize_train)"
      ],
      "execution_count": null,
      "outputs": []
    },
    {
      "cell_type": "code",
      "metadata": {
        "id": "qzRTUme7h3uN"
      },
      "source": [
        "#get_mean_std(resize_test)"
      ],
      "execution_count": null,
      "outputs": []
    },
    {
      "cell_type": "code",
      "metadata": {
        "id": "dqJqtWrZC1lZ"
      },
      "source": [
        "# normalization 준비\n",
        "\n",
        "resize_train_mean=[0.17191947, 0.41128376, 0.56153077]\n",
        "resize_train_std=[0.16150557, 0.16577946, 0.16063999]\n",
        "\n",
        "resize_test_mean=[0.15918699, 0.410329, 0.55247366]\n",
        "resize_test_std=[0.1542138, 0.16098696, 0.15552239]"
      ],
      "execution_count": null,
      "outputs": []
    },
    {
      "cell_type": "markdown",
      "metadata": {
        "id": "ji1tlhr1g5wL"
      },
      "source": [
        "3. transform을 이용해 data augmentation하기"
      ]
    },
    {
      "cell_type": "code",
      "metadata": {
        "id": "DnQd3WypHkF0"
      },
      "source": [
        "transform_train = transforms.Compose([\n",
        "    transforms.Resize((128, 128)), # 이미지 resize\n",
        "    transforms.RandomCrop(124), # 이미지를 랜덤으로 크롭\n",
        "    transforms.ColorJitter(brightness=0.2, contrast=0.2, saturation=0.2, hue=0.2), # 이미지 지터링(밝기, 대조, 채비, 색조)\n",
        "    transforms.RandomHorizontalFlip(p = 1), # p확률로 이미지 좌우반전\n",
        "    transforms.RandomVerticalFlip(p = 1), # p확률로 상하반전\n",
        "    transforms.ToTensor(),\n",
        "    transforms.Normalize(resize_train_mean, resize_train_std)\n",
        "])\n",
        "\n",
        "transform_test = transforms.Compose([\n",
        "    transforms.Resize((128, 128)), \n",
        "    transforms.ToTensor(),\n",
        "    transforms.Normalize(resize_test_mean, resize_test_std)\n",
        "])\n",
        "\n",
        "trainset = torchvision.datasets.ImageFolder(root=train_path, transform=transform_train)\n",
        "testset = torchvision.datasets.ImageFolder(root=test_path, transform=transform_test)\n"
      ],
      "execution_count": null,
      "outputs": []
    },
    {
      "cell_type": "markdown",
      "metadata": {
        "id": "2RrWjRB6dJ1z"
      },
      "source": [
        "augmentation을 적용한 상어 이미지 확인하기"
      ]
    },
    {
      "cell_type": "code",
      "metadata": {
        "id": "0MoU7WDZbEAw"
      },
      "source": [
        "import matplotlib.pyplot as plt\n",
        "import numpy as np\n",
        "\n",
        "%matplotlib inline\n",
        "\n",
        "def imshow(img, mean, std):\n",
        "    npimg = img.numpy()\n",
        "    img = np.transpose( npimg, (1, 2, 0) )\n",
        "    img = img * std + mean # renormalize\n",
        "    img = img.clip(0, 1)\n",
        "    plt.imshow(img)\n",
        "    plt.show()\n",
        "\n",
        "\n",
        "none_trans = torchvision.datasets.ImageFolder(root=train_path, transform=None)"
      ],
      "execution_count": null,
      "outputs": []
    },
    {
      "cell_type": "code",
      "metadata": {
        "colab": {
          "base_uri": "https://localhost:8080/",
          "height": 200
        },
        "id": "OCzW6PvFcuPI",
        "outputId": "09d2b412-2404-40f6-c02b-f23b41347e24"
      },
      "source": [
        "# 원본 이미지\n",
        "none_trans[359][0]"
      ],
      "execution_count": null,
      "outputs": [
        {
          "output_type": "execute_result",
          "data": {
            "image/png": "[encoded data removed]",
            "text/plain": [
              "<PIL.Image.Image image mode=RGB size=275x183 at 0x7FD6A8B51FD0>"
            ]
          },
          "metadata": {
            "tags": []
          },
          "execution_count": 614
        }
      ]
    },
    {
      "cell_type": "code",
      "metadata": {
        "colab": {
          "base_uri": "https://localhost:8080/",
          "height": 268
        },
        "id": "i-f4tWSLTWPc",
        "outputId": "bc96d6f2-b4fe-4ac7-9c5c-944b73e1d164"
      },
      "source": [
        "# augmentation을 적용한 shark 이미지\n",
        "imshow((trainset[359][0]),resize_train_mean,resize_train_std)"
      ],
      "execution_count": null,
      "outputs": [
        {
          "output_type": "display_data",
          "data": {
            "image/png": "[encoded data removed]",
            "text/plain": [
              "<Figure size 432x288 with 1 Axes>"
            ]
          },
          "metadata": {
            "tags": [],
            "needs_background": "light"
          }
        }
      ]
    },
    {
      "cell_type": "markdown",
      "metadata": {
        "id": "A5RaH7MIhELb"
      },
      "source": [
        "data loader까지 정의했으니 이제 학습을 위한 데이터 준비는 끝났습니다!"
      ]
    },
    {
      "cell_type": "code",
      "metadata": {
        "id": "BkHpOyhxUcm7"
      },
      "source": [
        "trainloader = torch.utils.data.DataLoader(trainset, batch_size=64,\n",
        "                                          shuffle=True, num_workers=0)\n",
        "\n",
        "testloader = torch.utils.data.DataLoader(testset, batch_size=64,\n",
        "                                         shuffle=False, num_workers=0)"
      ],
      "execution_count": null,
      "outputs": []
    },
    {
      "cell_type": "markdown",
      "metadata": {
        "id": "Pq0evsP8ke_2"
      },
      "source": [
        "# resnet 50 아키텍쳐 구성"
      ]
    },
    {
      "cell_type": "code",
      "metadata": {
        "id": "VaYnM5VRUcdc"
      },
      "source": [
        "# import resnet\n",
        "import torchvision.models.resnet as resnet\n",
        "import torch.nn as nn\n",
        "import torch.optim as optim\n",
        "\n",
        "# 미리 정의\n",
        "conv1x1=resnet.conv1x1\n",
        "Bottleneck = resnet.Bottleneck\n",
        "BasicBlock= resnet.BasicBlock"
      ],
      "execution_count": null,
      "outputs": []
    },
    {
      "cell_type": "code",
      "metadata": {
        "id": "p6i-bHlXUcbD"
      },
      "source": [
        "class ResNet(nn.Module):\n",
        "\n",
        "    def __init__(self, block, layers, num_classes=1000, zero_init_residual=True):\n",
        "        super(ResNet, self).__init__()\n",
        "        self.inplanes = 32 # conv1에서 나올 채널의 차원 -> 이미지넷보다 작은 데이터이므로 32로 조정\n",
        "\n",
        "        # inputs = 3x224x224 -> 3x128x128로 바뀜\n",
        "        self.conv1 = nn.Conv2d(3, 32, kernel_size=3, stride=1, padding=1, bias=False) # 마찬가지로 전부 사이즈 조정\n",
        "        self.bn1 = nn.BatchNorm2d(32)\n",
        "        self.relu = nn.ReLU(inplace=True)\n",
        "        self.maxpool = nn.MaxPool2d(kernel_size=3, stride=2, padding=1)\n",
        "        \n",
        "        self.layer1 = self._make_layer(block, 32, layers[0], stride=1) # 3 반복\n",
        "        self.layer2 = self._make_layer(block, 64, layers[1], stride=2) # 4 반복\n",
        "        self.layer3 = self._make_layer(block, 128, layers[2], stride=2) # 6 반복\n",
        "        self.layer4 = self._make_layer(block, 256, layers[3], stride=2) # 3 반복\n",
        "        \n",
        "        self.avgpool = nn.AdaptiveAvgPool2d((1, 1))\n",
        "        self.fc = nn.Linear(256 * block.expansion, num_classes)\n",
        "\n",
        "        for m in self.modules():\n",
        "            if isinstance(m, nn.Conv2d):\n",
        "                nn.init.kaiming_normal_(m.weight, mode='fan_out', nonlinearity='relu')\n",
        "            elif isinstance(m, nn.BatchNorm2d):\n",
        "                nn.init.constant_(m.weight, 1)\n",
        "                nn.init.constant_(m.bias, 0)\n",
        "\n",
        "        # Zero-initialize the last BN in each residual branch,\n",
        "        # so that the residual branch starts with zeros, and each residual block behaves like an identity.\n",
        "        # This improves the model by 0.2~0.3% according to https://arxiv.org/abs/1706.02677\n",
        "        if zero_init_residual:\n",
        "            for m in self.modules():\n",
        "                if isinstance(m, Bottleneck):\n",
        "                    nn.init.constant_(m.bn3.weight, 0)\n",
        "                elif isinstance(m, BasicBlock):\n",
        "                    nn.init.constant_(m.bn2.weight, 0)\n",
        "\n",
        "    def _make_layer(self, block, planes, blocks, stride=1): # planes -> 입력되는 채널 수\n",
        "        downsample = None\n",
        "        if stride != 1 or self.inplanes != planes * block.expansion: \n",
        "            downsample = nn.Sequential(\n",
        "                conv1x1(self.inplanes, planes * block.expansion, stride),\n",
        "                nn.BatchNorm2d(planes * block.expansion),\n",
        "            )\n",
        "\n",
        "        layers = []\n",
        "        layers.append(block(self.inplanes, planes, stride, downsample))\n",
        "        self.inplanes = planes * block.expansion\n",
        "        for _ in range(1, blocks):\n",
        "            layers.append(block(self.inplanes, planes))\n",
        "\n",
        "        return nn.Sequential(*layers)\n",
        "\n",
        "    def forward(self, x):\n",
        "        # input [32, 128, 128] -> [C ,H, W]\n",
        "        x = self.conv1(x)\n",
        "        x = self.bn1(x)\n",
        "        x = self.relu(x)\n",
        "        x = self.maxpool(x)\n",
        "        #x.shape =[32, 64, 64]\n",
        "\n",
        "        x = self.layer1(x)\n",
        "        #x.shape =[128, 64, 64]\n",
        "        x = self.layer2(x)\n",
        "        #x.shape =[256, 32, 32]\n",
        "        x = self.layer3(x)\n",
        "        #x.shape =[512, 16, 16]\n",
        "        x = self.layer4(x)\n",
        "        #x.shape =[1024, 8, 8]\n",
        "        \n",
        "        x = self.avgpool(x)\n",
        "        x = x.view(x.size(0), -1)\n",
        "        x = self.fc(x)\n",
        "\n",
        "        return x"
      ],
      "execution_count": null,
      "outputs": []
    },
    {
      "cell_type": "code",
      "metadata": {
        "id": "BSApkvKbUcYQ"
      },
      "source": [
        "resnet50 = ResNet(resnet.Bottleneck, [3, 4, 6, 3], 3, True).to(device) \n",
        "# resnet50\n",
        "# 1(conv1) + 9(layer1) + 12(layer2) + 18(layer3) + 9(layer4) +1(fc)= ResNet50"
      ],
      "execution_count": null,
      "outputs": []
    },
    {
      "cell_type": "markdown",
      "metadata": {
        "id": "f7yTW3RIOQI5"
      },
      "source": [
        "## 구성한 아키텍쳐 확인하기"
      ]
    },
    {
      "cell_type": "code",
      "metadata": {
        "colab": {
          "base_uri": "https://localhost:8080/"
        },
        "id": "wOiTbuw_rIuL",
        "outputId": "034d6a8a-20f0-4d37-f9bb-7a32e90e050e"
      },
      "source": [
        "# 출력 tensor가 맞는지 확인해보자\n",
        "\n",
        "from torchsummary import summary\n",
        "summary(resnet50, input_size=(3, 128, 128), device=device)"
      ],
      "execution_count": null,
      "outputs": [
        {
          "output_type": "stream",
          "text": [
            "----------------------------------------------------------------\n",
            "        Layer (type)               Output Shape         Param #\n",
            "================================================================\n",
            "            Conv2d-1         [-1, 32, 128, 128]             864\n",
            "       BatchNorm2d-2         [-1, 32, 128, 128]              64\n",
            "              ReLU-3         [-1, 32, 128, 128]               0\n",
            "         MaxPool2d-4           [-1, 32, 64, 64]               0\n",
            "            Conv2d-5           [-1, 32, 64, 64]           1,024\n",
            "       BatchNorm2d-6           [-1, 32, 64, 64]              64\n",
            "              ReLU-7           [-1, 32, 64, 64]               0\n",
            "            Conv2d-8           [-1, 32, 64, 64]           9,216\n",
            "       BatchNorm2d-9           [-1, 32, 64, 64]              64\n",
            "             ReLU-10           [-1, 32, 64, 64]               0\n",
            "           Conv2d-11          [-1, 128, 64, 64]           4,096\n",
            "      BatchNorm2d-12          [-1, 128, 64, 64]             256\n",
            "           Conv2d-13          [-1, 128, 64, 64]           4,096\n",
            "      BatchNorm2d-14          [-1, 128, 64, 64]             256\n",
            "             ReLU-15          [-1, 128, 64, 64]               0\n",
            "       Bottleneck-16          [-1, 128, 64, 64]               0\n",
            "           Conv2d-17           [-1, 32, 64, 64]           4,096\n",
            "      BatchNorm2d-18           [-1, 32, 64, 64]              64\n",
            "             ReLU-19           [-1, 32, 64, 64]               0\n",
            "           Conv2d-20           [-1, 32, 64, 64]           9,216\n",
            "      BatchNorm2d-21           [-1, 32, 64, 64]              64\n",
            "             ReLU-22           [-1, 32, 64, 64]               0\n",
            "           Conv2d-23          [-1, 128, 64, 64]           4,096\n",
            "      BatchNorm2d-24          [-1, 128, 64, 64]             256\n",
            "             ReLU-25          [-1, 128, 64, 64]               0\n",
            "       Bottleneck-26          [-1, 128, 64, 64]               0\n",
            "           Conv2d-27           [-1, 32, 64, 64]           4,096\n",
            "      BatchNorm2d-28           [-1, 32, 64, 64]              64\n",
            "             ReLU-29           [-1, 32, 64, 64]               0\n",
            "           Conv2d-30           [-1, 32, 64, 64]           9,216\n",
            "      BatchNorm2d-31           [-1, 32, 64, 64]              64\n",
            "             ReLU-32           [-1, 32, 64, 64]               0\n",
            "           Conv2d-33          [-1, 128, 64, 64]           4,096\n",
            "      BatchNorm2d-34          [-1, 128, 64, 64]             256\n",
            "             ReLU-35          [-1, 128, 64, 64]               0\n",
            "       Bottleneck-36          [-1, 128, 64, 64]               0\n",
            "           Conv2d-37           [-1, 64, 64, 64]           8,192\n",
            "      BatchNorm2d-38           [-1, 64, 64, 64]             128\n",
            "             ReLU-39           [-1, 64, 64, 64]               0\n",
            "           Conv2d-40           [-1, 64, 32, 32]          36,864\n",
            "      BatchNorm2d-41           [-1, 64, 32, 32]             128\n",
            "             ReLU-42           [-1, 64, 32, 32]               0\n",
            "           Conv2d-43          [-1, 256, 32, 32]          16,384\n",
            "      BatchNorm2d-44          [-1, 256, 32, 32]             512\n",
            "           Conv2d-45          [-1, 256, 32, 32]          32,768\n",
            "      BatchNorm2d-46          [-1, 256, 32, 32]             512\n",
            "             ReLU-47          [-1, 256, 32, 32]               0\n",
            "       Bottleneck-48          [-1, 256, 32, 32]               0\n",
            "           Conv2d-49           [-1, 64, 32, 32]          16,384\n",
            "      BatchNorm2d-50           [-1, 64, 32, 32]             128\n",
            "             ReLU-51           [-1, 64, 32, 32]               0\n",
            "           Conv2d-52           [-1, 64, 32, 32]          36,864\n",
            "      BatchNorm2d-53           [-1, 64, 32, 32]             128\n",
            "             ReLU-54           [-1, 64, 32, 32]               0\n",
            "           Conv2d-55          [-1, 256, 32, 32]          16,384\n",
            "      BatchNorm2d-56          [-1, 256, 32, 32]             512\n",
            "             ReLU-57          [-1, 256, 32, 32]               0\n",
            "       Bottleneck-58          [-1, 256, 32, 32]               0\n",
            "           Conv2d-59           [-1, 64, 32, 32]          16,384\n",
            "      BatchNorm2d-60           [-1, 64, 32, 32]             128\n",
            "             ReLU-61           [-1, 64, 32, 32]               0\n",
            "           Conv2d-62           [-1, 64, 32, 32]          36,864\n",
            "      BatchNorm2d-63           [-1, 64, 32, 32]             128\n",
            "             ReLU-64           [-1, 64, 32, 32]               0\n",
            "           Conv2d-65          [-1, 256, 32, 32]          16,384\n",
            "      BatchNorm2d-66          [-1, 256, 32, 32]             512\n",
            "             ReLU-67          [-1, 256, 32, 32]               0\n",
            "       Bottleneck-68          [-1, 256, 32, 32]               0\n",
            "           Conv2d-69           [-1, 64, 32, 32]          16,384\n",
            "      BatchNorm2d-70           [-1, 64, 32, 32]             128\n",
            "             ReLU-71           [-1, 64, 32, 32]               0\n",
            "           Conv2d-72           [-1, 64, 32, 32]          36,864\n",
            "      BatchNorm2d-73           [-1, 64, 32, 32]             128\n",
            "             ReLU-74           [-1, 64, 32, 32]               0\n",
            "           Conv2d-75          [-1, 256, 32, 32]          16,384\n",
            "      BatchNorm2d-76          [-1, 256, 32, 32]             512\n",
            "             ReLU-77          [-1, 256, 32, 32]               0\n",
            "       Bottleneck-78          [-1, 256, 32, 32]               0\n",
            "           Conv2d-79          [-1, 128, 32, 32]          32,768\n",
            "      BatchNorm2d-80          [-1, 128, 32, 32]             256\n",
            "             ReLU-81          [-1, 128, 32, 32]               0\n",
            "           Conv2d-82          [-1, 128, 16, 16]         147,456\n",
            "      BatchNorm2d-83          [-1, 128, 16, 16]             256\n",
            "             ReLU-84          [-1, 128, 16, 16]               0\n",
            "           Conv2d-85          [-1, 512, 16, 16]          65,536\n",
            "      BatchNorm2d-86          [-1, 512, 16, 16]           1,024\n",
            "           Conv2d-87          [-1, 512, 16, 16]         131,072\n",
            "      BatchNorm2d-88          [-1, 512, 16, 16]           1,024\n",
            "             ReLU-89          [-1, 512, 16, 16]               0\n",
            "       Bottleneck-90          [-1, 512, 16, 16]               0\n",
            "           Conv2d-91          [-1, 128, 16, 16]          65,536\n",
            "      BatchNorm2d-92          [-1, 128, 16, 16]             256\n",
            "             ReLU-93          [-1, 128, 16, 16]               0\n",
            "           Conv2d-94          [-1, 128, 16, 16]         147,456\n",
            "      BatchNorm2d-95          [-1, 128, 16, 16]             256\n",
            "             ReLU-96          [-1, 128, 16, 16]               0\n",
            "           Conv2d-97          [-1, 512, 16, 16]          65,536\n",
            "      BatchNorm2d-98          [-1, 512, 16, 16]           1,024\n",
            "             ReLU-99          [-1, 512, 16, 16]               0\n",
            "      Bottleneck-100          [-1, 512, 16, 16]               0\n",
            "          Conv2d-101          [-1, 128, 16, 16]          65,536\n",
            "     BatchNorm2d-102          [-1, 128, 16, 16]             256\n",
            "            ReLU-103          [-1, 128, 16, 16]               0\n",
            "          Conv2d-104          [-1, 128, 16, 16]         147,456\n",
            "     BatchNorm2d-105          [-1, 128, 16, 16]             256\n",
            "            ReLU-106          [-1, 128, 16, 16]               0\n",
            "          Conv2d-107          [-1, 512, 16, 16]          65,536\n",
            "     BatchNorm2d-108          [-1, 512, 16, 16]           1,024\n",
            "            ReLU-109          [-1, 512, 16, 16]               0\n",
            "      Bottleneck-110          [-1, 512, 16, 16]               0\n",
            "          Conv2d-111          [-1, 128, 16, 16]          65,536\n",
            "     BatchNorm2d-112          [-1, 128, 16, 16]             256\n",
            "            ReLU-113          [-1, 128, 16, 16]               0\n",
            "          Conv2d-114          [-1, 128, 16, 16]         147,456\n",
            "     BatchNorm2d-115          [-1, 128, 16, 16]             256\n",
            "            ReLU-116          [-1, 128, 16, 16]               0\n",
            "          Conv2d-117          [-1, 512, 16, 16]          65,536\n",
            "     BatchNorm2d-118          [-1, 512, 16, 16]           1,024\n",
            "            ReLU-119          [-1, 512, 16, 16]               0\n",
            "      Bottleneck-120          [-1, 512, 16, 16]               0\n",
            "          Conv2d-121          [-1, 128, 16, 16]          65,536\n",
            "     BatchNorm2d-122          [-1, 128, 16, 16]             256\n",
            "            ReLU-123          [-1, 128, 16, 16]               0\n",
            "          Conv2d-124          [-1, 128, 16, 16]         147,456\n",
            "     BatchNorm2d-125          [-1, 128, 16, 16]             256\n",
            "            ReLU-126          [-1, 128, 16, 16]               0\n",
            "          Conv2d-127          [-1, 512, 16, 16]          65,536\n",
            "     BatchNorm2d-128          [-1, 512, 16, 16]           1,024\n",
            "            ReLU-129          [-1, 512, 16, 16]               0\n",
            "      Bottleneck-130          [-1, 512, 16, 16]               0\n",
            "          Conv2d-131          [-1, 128, 16, 16]          65,536\n",
            "     BatchNorm2d-132          [-1, 128, 16, 16]             256\n",
            "            ReLU-133          [-1, 128, 16, 16]               0\n",
            "          Conv2d-134          [-1, 128, 16, 16]         147,456\n",
            "     BatchNorm2d-135          [-1, 128, 16, 16]             256\n",
            "            ReLU-136          [-1, 128, 16, 16]               0\n",
            "          Conv2d-137          [-1, 512, 16, 16]          65,536\n",
            "     BatchNorm2d-138          [-1, 512, 16, 16]           1,024\n",
            "            ReLU-139          [-1, 512, 16, 16]               0\n",
            "      Bottleneck-140          [-1, 512, 16, 16]               0\n",
            "          Conv2d-141          [-1, 256, 16, 16]         131,072\n",
            "     BatchNorm2d-142          [-1, 256, 16, 16]             512\n",
            "            ReLU-143          [-1, 256, 16, 16]               0\n",
            "          Conv2d-144            [-1, 256, 8, 8]         589,824\n",
            "     BatchNorm2d-145            [-1, 256, 8, 8]             512\n",
            "            ReLU-146            [-1, 256, 8, 8]               0\n",
            "          Conv2d-147           [-1, 1024, 8, 8]         262,144\n",
            "     BatchNorm2d-148           [-1, 1024, 8, 8]           2,048\n",
            "          Conv2d-149           [-1, 1024, 8, 8]         524,288\n",
            "     BatchNorm2d-150           [-1, 1024, 8, 8]           2,048\n",
            "            ReLU-151           [-1, 1024, 8, 8]               0\n",
            "      Bottleneck-152           [-1, 1024, 8, 8]               0\n",
            "          Conv2d-153            [-1, 256, 8, 8]         262,144\n",
            "     BatchNorm2d-154            [-1, 256, 8, 8]             512\n",
            "            ReLU-155            [-1, 256, 8, 8]               0\n",
            "          Conv2d-156            [-1, 256, 8, 8]         589,824\n",
            "     BatchNorm2d-157            [-1, 256, 8, 8]             512\n",
            "            ReLU-158            [-1, 256, 8, 8]               0\n",
            "          Conv2d-159           [-1, 1024, 8, 8]         262,144\n",
            "     BatchNorm2d-160           [-1, 1024, 8, 8]           2,048\n",
            "            ReLU-161           [-1, 1024, 8, 8]               0\n",
            "      Bottleneck-162           [-1, 1024, 8, 8]               0\n",
            "          Conv2d-163            [-1, 256, 8, 8]         262,144\n",
            "     BatchNorm2d-164            [-1, 256, 8, 8]             512\n",
            "            ReLU-165            [-1, 256, 8, 8]               0\n",
            "          Conv2d-166            [-1, 256, 8, 8]         589,824\n",
            "     BatchNorm2d-167            [-1, 256, 8, 8]             512\n",
            "            ReLU-168            [-1, 256, 8, 8]               0\n",
            "          Conv2d-169           [-1, 1024, 8, 8]         262,144\n",
            "     BatchNorm2d-170           [-1, 1024, 8, 8]           2,048\n",
            "            ReLU-171           [-1, 1024, 8, 8]               0\n",
            "      Bottleneck-172           [-1, 1024, 8, 8]               0\n",
            "AdaptiveAvgPool2d-173           [-1, 1024, 1, 1]               0\n",
            "          Linear-174                    [-1, 3]           3,075\n",
            "================================================================\n",
            "Total params: 5,891,875\n",
            "Trainable params: 5,891,875\n",
            "Non-trainable params: 0\n",
            "----------------------------------------------------------------\n",
            "Input size (MB): 0.19\n",
            "Forward/backward pass size (MB): 187.13\n",
            "Params size (MB): 22.48\n",
            "Estimated Total Size (MB): 209.80\n",
            "----------------------------------------------------------------\n"
          ],
          "name": "stdout"
        }
      ]
    },
    {
      "cell_type": "code",
      "metadata": {
        "id": "SQ50nGrT-zBa"
      },
      "source": [
        "#from torchvision import models\n",
        "#import torch\n",
        "\n",
        "#resnet50_pretrained = models.resnet50(pretrained=True)"
      ],
      "execution_count": null,
      "outputs": []
    },
    {
      "cell_type": "code",
      "metadata": {
        "id": "y0nDL-BJ-XBE"
      },
      "source": [
        "def imshow(img):\n",
        "    img = img / 2 + 0.5     # unnormalize\n",
        "    npimg = img.numpy()\n",
        "    plt.imshow(np.transpose(npimg, (1, 2, 0)))\n",
        "    plt.show()"
      ],
      "execution_count": null,
      "outputs": []
    },
    {
      "cell_type": "code",
      "metadata": {
        "colab": {
          "base_uri": "https://localhost:8080/",
          "height": 610
        },
        "id": "F6mSsmoJUcWB",
        "outputId": "6a4a6df5-616f-40b5-874e-965be8ad8258"
      },
      "source": [
        "# 첫 번째 layer의 filter를 확인해보자 (=가중치 확인) -> 나중에 학습을 완료한 후의 filter도 확인하기\n",
        "for w in resnet50.parameters():\n",
        "    w = w.data.cpu()\n",
        "    print(w.shape)\n",
        "    break\n",
        "\n",
        "# 가중치 renormalization\n",
        "min_w = torch.min(w)\n",
        "w1 = (-1/(2 * min_w)) * w + 0.5\n",
        "\n",
        "# make grid to display it\n",
        "grid_size = len(w1)\n",
        "x_grid = [w1[i] for i in range(grid_size)]\n",
        "x_grid = torchvision.utils.make_grid(x_grid, nrow=6, padding=1)\n",
        "\n",
        "plt.figure(figsize=(10, 10))\n",
        "imshow(x_grid)"
      ],
      "execution_count": null,
      "outputs": [
        {
          "output_type": "stream",
          "text": [
            "torch.Size([32, 3, 3, 3])\n"
          ],
          "name": "stdout"
        },
        {
          "output_type": "display_data",
          "data": {
            "image/png": "[encoded data removed]",
            "text/plain": [
              "<Figure size 720x720 with 1 Axes>"
            ]
          },
          "metadata": {
            "tags": [],
            "needs_background": "light"
          }
        }
      ]
    },
    {
      "cell_type": "markdown",
      "metadata": {
        "id": "qgl5q-Qoz7zB"
      },
      "source": [
        "## 파라미터 설정하기"
      ]
    },
    {
      "cell_type": "code",
      "metadata": {
        "id": "9lkZGLamUcKL"
      },
      "source": [
        "# config 모델 파라미터 인자를 만들기위한 클래스\n",
        "class Config:\n",
        "  def __init__(self, **kwargs):\n",
        "    for key, value in kwargs.items():\n",
        "      setattr(self, key, value)"
      ],
      "execution_count": null,
      "outputs": []
    },
    {
      "cell_type": "code",
      "metadata": {
        "id": "MjiuQhZ03gY5"
      },
      "source": [
        "lr = 0.0008\n",
        "epochs = 30\n",
        "optimizer = 'Adam'"
      ],
      "execution_count": null,
      "outputs": []
    },
    {
      "cell_type": "code",
      "metadata": {
        "id": "NsctNJSGUcHc"
      },
      "source": [
        "# 파라미터 클래스\n",
        "config = Config(\n",
        "    trainloader = trainloader,\n",
        "    testloader = testloader,\n",
        "    model = resnet50,\n",
        "    device = device,\n",
        "    optimizer = torch.optim.Adam(resnet50.parameters(), lr=lr),\n",
        "    criterion= nn.CrossEntropyLoss().to(device),\n",
        "    globaliter = 0\n",
        ")"
      ],
      "execution_count": null,
      "outputs": []
    },
    {
      "cell_type": "code",
      "metadata": {
        "colab": {
          "base_uri": "https://localhost:8080/"
        },
        "id": "gSWibVMIUcFY",
        "outputId": "3247c904-f238-41e2-b71d-ab8f7ba05d62"
      },
      "source": [
        "class train_test():\n",
        "      def __init__(self, config):\n",
        "        # 파라미터 인자\n",
        "        self.trainloader = config.trainloader\n",
        "        self.testloader = config.testloader\n",
        "        self.model = config.model\n",
        "        self.device = config.device\n",
        "        self.optimizer = config.optimizer\n",
        "        self.criterion = config.criterion\n",
        "        self.globaliter = config.globaliter\n",
        "        print(len(trainloader))\n",
        "      def train(self, epochs, log_interval):\n",
        "          self.model.train()\n",
        "          for epoch in range(1, epochs + 1 ):  # epochs 루프\n",
        "              running_loss = 0.0\n",
        "              lr_sche.step()\n",
        "              for i, data in enumerate(self.trainloader, 0): # batch 루프\n",
        "                  # get the inputs\n",
        "                  self.globaliter += 1\n",
        "                  inputs, labels = data # input data, label 분리\n",
        "                  inputs = inputs.to(self.device)\n",
        "                  labels = labels.to(self.device)\n",
        "\n",
        "                  # 가중치 초기화 -> 이전 batch에서 계산되었던 가중치를 0으로 만들고 최적화 진행\n",
        "                  self.optimizer.zero_grad() \n",
        "\n",
        "                  # forward + backward + optimize\n",
        "                  outputs = self.model(inputs)\n",
        "                  loss = self.criterion(outputs, labels)\n",
        "                  loss.backward()\n",
        "                  self.optimizer.step()\n",
        "                  running_loss += loss.item()\n",
        "\n",
        "                  # 30 iteration마다 acc & loss 출력\n",
        "                  if i % log_interval == log_interval -1 : # i는 1에포크의 iteration\n",
        "                    print('Train Epoch: {} [{}/{} ({:.0f}%)]\\tlearningLoss: {:.6f}\\twhole_loss: {:.6f} '.format(\n",
        "                        epoch, i*len(inputs), len(self.trainloader.dataset),\n",
        "                        100. * i*len(inputs) / len(self.trainloader.dataset), \n",
        "                        running_loss / log_interval,\n",
        "                        loss.item()))\n",
        "                    running_loss = 0.0\n",
        "\n",
        "                    #with train_summary_writer.as_default():\n",
        "                    #    summary.scalar('loss', loss.item() , step = self.globaliter)\n",
        "\n",
        "              with torch.no_grad():\n",
        "                  self.model.eval()\n",
        "                  correct = 0\n",
        "                  total = 0\n",
        "                  test_loss = 0\n",
        "                  acc = []\n",
        "                  for k, data in enumerate(self.testloader, 0):\n",
        "                    images, labels = data\n",
        "                    images = images.to(self.device)\n",
        "                    labels = labels.to(self.device)\n",
        "                    outputs = self.model(images)\n",
        "\n",
        "                    _, predicted = torch.max(outputs.data, 1)\n",
        "                    total += labels.size(0)\n",
        "                    correct += (predicted == labels).sum().item()\n",
        "                    test_loss += self.criterion(outputs, labels).item()\n",
        "                    acc.append(100 * correct/total)\n",
        "\n",
        "                  print('\\nTest set : Average loss:{:.4f}, Accuracy: {}/{}({:.0f}%)\\n'.format(\n",
        "                      test_loss, correct, total, 100 * correct/total\n",
        "                  ))\n",
        "                  #with test_summary_writer.as_default():\n",
        "                  #    summary.scalar('loss', test_loss , step = self.globaliter)\n",
        "                  #    summary.scalar('accuracy', 100 * correct/total , step = self.globaliter)  \n",
        "##                      if acc [k] > 60 and acc[k] > acc[k-1]:\n",
        "#                         torch.save({\n",
        "#                                     'epoch': epoch,\n",
        "#                                     'model_state_dict': self.model.state_dict(),\n",
        "#                                     'optimizer_state_dict': self.optimizer.state_dict(),\n",
        "#                                     'loss': test_loss\n",
        "#                                     }, PATH)\n",
        "                         \n",
        "      print('Finished Training')"
      ],
      "execution_count": null,
      "outputs": [
        {
          "output_type": "stream",
          "text": [
            "Finished Training\n"
          ],
          "name": "stdout"
        }
      ]
    },
    {
      "cell_type": "code",
      "metadata": {
        "colab": {
          "base_uri": "https://localhost:8080/"
        },
        "id": "u2fjPoqKUcDb",
        "outputId": "9bb22e17-c7a1-4658-ba7b-dcc6d1baa878"
      },
      "source": [
        "ready_to_train=train_test(config)"
      ],
      "execution_count": null,
      "outputs": [
        {
          "output_type": "stream",
          "text": [
            "17\n"
          ],
          "name": "stdout"
        }
      ]
    },
    {
      "cell_type": "code",
      "metadata": {
        "colab": {
          "base_uri": "https://localhost:8080/",
          "height": 1000
        },
        "id": "yD2D-0YHUcAk",
        "outputId": "641584ba-6b57-4ef5-81d1-10c97bf6c13f"
      },
      "source": [
        "lr_sche = optim.lr_scheduler.StepLR(config.optimizer, step_size=10000, gamma=0.5) # 20 step마다 lr조정\n",
        "epochs = 200\n",
        "log_interval = 175\n",
        "\n",
        "ready_to_train.train(epochs, log_interval)"
      ],
      "execution_count": null,
      "outputs": [
        {
          "output_type": "stream",
          "text": [
            "/usr/local/lib/python3.7/dist-packages/torch/optim/lr_scheduler.py:134: UserWarning: Detected call of `lr_scheduler.step()` before `optimizer.step()`. In PyTorch 1.1.0 and later, you should call them in the opposite order: `optimizer.step()` before `lr_scheduler.step()`.  Failure to do this will result in PyTorch skipping the first value of the learning rate schedule. See more details at https://pytorch.org/docs/stable/optim.html#how-to-adjust-learning-rate\n",
            "  \"https://pytorch.org/docs/stable/optim.html#how-to-adjust-learning-rate\", UserWarning)\n"
          ],
          "name": "stderr"
        },
        {
          "output_type": "stream",
          "text": [
            "\n",
            "Test set : Average loss:5.2461, Accuracy: 115/263(44%)\n",
            "\n",
            "\n",
            "Test set : Average loss:5.1010, Accuracy: 122/263(46%)\n",
            "\n",
            "\n",
            "Test set : Average loss:5.2133, Accuracy: 115/263(44%)\n",
            "\n",
            "\n",
            "Test set : Average loss:5.5365, Accuracy: 118/263(45%)\n",
            "\n",
            "\n",
            "Test set : Average loss:5.2883, Accuracy: 121/263(46%)\n",
            "\n",
            "\n",
            "Test set : Average loss:5.2426, Accuracy: 112/263(43%)\n",
            "\n",
            "\n",
            "Test set : Average loss:5.1275, Accuracy: 119/263(45%)\n",
            "\n",
            "\n",
            "Test set : Average loss:5.1570, Accuracy: 111/263(42%)\n",
            "\n",
            "\n",
            "Test set : Average loss:5.6032, Accuracy: 121/263(46%)\n",
            "\n",
            "\n",
            "Test set : Average loss:5.3877, Accuracy: 120/263(46%)\n",
            "\n",
            "\n",
            "Test set : Average loss:5.1807, Accuracy: 128/263(49%)\n",
            "\n",
            "\n",
            "Test set : Average loss:5.0678, Accuracy: 122/263(46%)\n",
            "\n",
            "\n",
            "Test set : Average loss:5.4932, Accuracy: 115/263(44%)\n",
            "\n",
            "\n",
            "Test set : Average loss:5.4136, Accuracy: 113/263(43%)\n",
            "\n",
            "\n",
            "Test set : Average loss:5.1416, Accuracy: 123/263(47%)\n",
            "\n",
            "\n",
            "Test set : Average loss:5.5713, Accuracy: 129/263(49%)\n",
            "\n",
            "\n",
            "Test set : Average loss:5.6451, Accuracy: 116/263(44%)\n",
            "\n",
            "\n",
            "Test set : Average loss:5.5093, Accuracy: 114/263(43%)\n",
            "\n",
            "\n",
            "Test set : Average loss:5.2640, Accuracy: 123/263(47%)\n",
            "\n",
            "\n",
            "Test set : Average loss:5.6742, Accuracy: 124/263(47%)\n",
            "\n",
            "\n",
            "Test set : Average loss:5.5299, Accuracy: 126/263(48%)\n",
            "\n",
            "\n",
            "Test set : Average loss:5.4490, Accuracy: 118/263(45%)\n",
            "\n",
            "\n",
            "Test set : Average loss:5.1545, Accuracy: 122/263(46%)\n",
            "\n",
            "\n",
            "Test set : Average loss:5.4250, Accuracy: 122/263(46%)\n",
            "\n",
            "\n",
            "Test set : Average loss:5.9224, Accuracy: 117/263(44%)\n",
            "\n",
            "\n",
            "Test set : Average loss:5.5377, Accuracy: 122/263(46%)\n",
            "\n",
            "\n",
            "Test set : Average loss:5.8883, Accuracy: 121/263(46%)\n",
            "\n",
            "\n",
            "Test set : Average loss:5.8251, Accuracy: 126/263(48%)\n",
            "\n",
            "\n",
            "Test set : Average loss:7.0563, Accuracy: 119/263(45%)\n",
            "\n",
            "\n",
            "Test set : Average loss:7.4760, Accuracy: 111/263(42%)\n",
            "\n",
            "\n",
            "Test set : Average loss:6.6281, Accuracy: 116/263(44%)\n",
            "\n",
            "\n",
            "Test set : Average loss:5.8411, Accuracy: 112/263(43%)\n",
            "\n",
            "\n",
            "Test set : Average loss:7.2175, Accuracy: 117/263(44%)\n",
            "\n",
            "\n",
            "Test set : Average loss:7.1776, Accuracy: 116/263(44%)\n",
            "\n",
            "\n",
            "Test set : Average loss:8.8945, Accuracy: 113/263(43%)\n",
            "\n",
            "\n",
            "Test set : Average loss:7.2555, Accuracy: 109/263(41%)\n",
            "\n",
            "\n",
            "Test set : Average loss:9.2168, Accuracy: 104/263(40%)\n",
            "\n",
            "\n",
            "Test set : Average loss:6.6898, Accuracy: 117/263(44%)\n",
            "\n",
            "\n",
            "Test set : Average loss:8.3387, Accuracy: 109/263(41%)\n",
            "\n",
            "\n",
            "Test set : Average loss:8.7883, Accuracy: 110/263(42%)\n",
            "\n",
            "\n",
            "Test set : Average loss:7.9826, Accuracy: 114/263(43%)\n",
            "\n",
            "\n",
            "Test set : Average loss:8.4379, Accuracy: 120/263(46%)\n",
            "\n",
            "\n",
            "Test set : Average loss:7.2678, Accuracy: 123/263(47%)\n",
            "\n",
            "\n",
            "Test set : Average loss:6.3858, Accuracy: 123/263(47%)\n",
            "\n",
            "\n",
            "Test set : Average loss:7.8703, Accuracy: 113/263(43%)\n",
            "\n",
            "\n",
            "Test set : Average loss:8.6895, Accuracy: 112/263(43%)\n",
            "\n",
            "\n",
            "Test set : Average loss:7.7666, Accuracy: 114/263(43%)\n",
            "\n",
            "\n",
            "Test set : Average loss:8.1442, Accuracy: 113/263(43%)\n",
            "\n",
            "\n",
            "Test set : Average loss:11.8049, Accuracy: 107/263(41%)\n",
            "\n",
            "\n",
            "Test set : Average loss:11.0196, Accuracy: 109/263(41%)\n",
            "\n",
            "\n",
            "Test set : Average loss:10.6440, Accuracy: 114/263(43%)\n",
            "\n",
            "\n",
            "Test set : Average loss:8.5854, Accuracy: 114/263(43%)\n",
            "\n",
            "\n",
            "Test set : Average loss:12.6675, Accuracy: 111/263(42%)\n",
            "\n",
            "\n",
            "Test set : Average loss:11.1726, Accuracy: 110/263(42%)\n",
            "\n",
            "\n",
            "Test set : Average loss:12.6758, Accuracy: 105/263(40%)\n",
            "\n",
            "\n",
            "Test set : Average loss:9.3544, Accuracy: 114/263(43%)\n",
            "\n",
            "\n",
            "Test set : Average loss:15.5750, Accuracy: 102/263(39%)\n",
            "\n",
            "\n",
            "Test set : Average loss:10.8332, Accuracy: 116/263(44%)\n",
            "\n",
            "\n",
            "Test set : Average loss:12.3057, Accuracy: 113/263(43%)\n",
            "\n",
            "\n",
            "Test set : Average loss:14.9201, Accuracy: 113/263(43%)\n",
            "\n",
            "\n",
            "Test set : Average loss:8.2087, Accuracy: 125/263(48%)\n",
            "\n",
            "\n",
            "Test set : Average loss:13.0001, Accuracy: 118/263(45%)\n",
            "\n",
            "\n",
            "Test set : Average loss:19.5088, Accuracy: 108/263(41%)\n",
            "\n",
            "\n",
            "Test set : Average loss:13.4477, Accuracy: 112/263(43%)\n",
            "\n",
            "\n",
            "Test set : Average loss:12.5789, Accuracy: 112/263(43%)\n",
            "\n",
            "\n",
            "Test set : Average loss:11.5181, Accuracy: 122/263(46%)\n",
            "\n",
            "\n",
            "Test set : Average loss:16.0080, Accuracy: 120/263(46%)\n",
            "\n",
            "\n",
            "Test set : Average loss:13.9187, Accuracy: 122/263(46%)\n",
            "\n",
            "\n",
            "Test set : Average loss:18.0872, Accuracy: 109/263(41%)\n",
            "\n",
            "\n",
            "Test set : Average loss:17.6548, Accuracy: 109/263(41%)\n",
            "\n",
            "\n",
            "Test set : Average loss:14.7107, Accuracy: 118/263(45%)\n",
            "\n",
            "\n",
            "Test set : Average loss:12.7729, Accuracy: 123/263(47%)\n",
            "\n",
            "\n",
            "Test set : Average loss:13.6549, Accuracy: 117/263(44%)\n",
            "\n",
            "\n",
            "Test set : Average loss:19.5243, Accuracy: 118/263(45%)\n",
            "\n",
            "\n",
            "Test set : Average loss:13.1620, Accuracy: 126/263(48%)\n",
            "\n",
            "\n",
            "Test set : Average loss:14.5589, Accuracy: 116/263(44%)\n",
            "\n",
            "\n",
            "Test set : Average loss:14.3937, Accuracy: 108/263(41%)\n",
            "\n",
            "\n",
            "Test set : Average loss:17.4132, Accuracy: 110/263(42%)\n",
            "\n"
          ],
          "name": "stdout"
        },
        {
          "output_type": "error",
          "ename": "KeyboardInterrupt",
          "evalue": "ignored",
          "traceback": [
            "\u001b[0;31m---------------------------------------------------------------------------\u001b[0m",
            "\u001b[0;31mKeyboardInterrupt\u001b[0m                         Traceback (most recent call last)",
            "\u001b[0;32m<ipython-input-629-948b8f2d4cd0>\u001b[0m in \u001b[0;36m<module>\u001b[0;34m()\u001b[0m\n\u001b[1;32m      3\u001b[0m \u001b[0mlog_interval\u001b[0m \u001b[0;34m=\u001b[0m \u001b[0;36m175\u001b[0m\u001b[0;34m\u001b[0m\u001b[0;34m\u001b[0m\u001b[0m\n\u001b[1;32m      4\u001b[0m \u001b[0;34m\u001b[0m\u001b[0m\n\u001b[0;32m----> 5\u001b[0;31m \u001b[0mready_to_train\u001b[0m\u001b[0;34m.\u001b[0m\u001b[0mtrain\u001b[0m\u001b[0;34m(\u001b[0m\u001b[0mepochs\u001b[0m\u001b[0;34m,\u001b[0m \u001b[0mlog_interval\u001b[0m\u001b[0;34m)\u001b[0m\u001b[0;34m\u001b[0m\u001b[0;34m\u001b[0m\u001b[0m\n\u001b[0m",
            "\u001b[0;32m<ipython-input-627-230c269b2370>\u001b[0m in \u001b[0;36mtrain\u001b[0;34m(self, epochs, log_interval)\u001b[0m\n\u001b[1;32m     15\u001b[0m               \u001b[0mrunning_loss\u001b[0m \u001b[0;34m=\u001b[0m \u001b[0;36m0.0\u001b[0m\u001b[0;34m\u001b[0m\u001b[0;34m\u001b[0m\u001b[0m\n\u001b[1;32m     16\u001b[0m               \u001b[0mlr_sche\u001b[0m\u001b[0;34m.\u001b[0m\u001b[0mstep\u001b[0m\u001b[0;34m(\u001b[0m\u001b[0;34m)\u001b[0m\u001b[0;34m\u001b[0m\u001b[0;34m\u001b[0m\u001b[0m\n\u001b[0;32m---> 17\u001b[0;31m               \u001b[0;32mfor\u001b[0m \u001b[0mi\u001b[0m\u001b[0;34m,\u001b[0m \u001b[0mdata\u001b[0m \u001b[0;32min\u001b[0m \u001b[0menumerate\u001b[0m\u001b[0;34m(\u001b[0m\u001b[0mself\u001b[0m\u001b[0;34m.\u001b[0m\u001b[0mtrainloader\u001b[0m\u001b[0;34m,\u001b[0m \u001b[0;36m0\u001b[0m\u001b[0;34m)\u001b[0m\u001b[0;34m:\u001b[0m \u001b[0;31m# batch 루프\u001b[0m\u001b[0;34m\u001b[0m\u001b[0;34m\u001b[0m\u001b[0m\n\u001b[0m\u001b[1;32m     18\u001b[0m                   \u001b[0;31m# get the inputs\u001b[0m\u001b[0;34m\u001b[0m\u001b[0;34m\u001b[0m\u001b[0;34m\u001b[0m\u001b[0m\n\u001b[1;32m     19\u001b[0m                   \u001b[0mself\u001b[0m\u001b[0;34m.\u001b[0m\u001b[0mglobaliter\u001b[0m \u001b[0;34m+=\u001b[0m \u001b[0;36m1\u001b[0m\u001b[0;34m\u001b[0m\u001b[0;34m\u001b[0m\u001b[0m\n",
            "\u001b[0;32m/usr/local/lib/python3.7/dist-packages/torch/utils/data/dataloader.py\u001b[0m in \u001b[0;36m__next__\u001b[0;34m(self)\u001b[0m\n\u001b[1;32m    519\u001b[0m             \u001b[0;32mif\u001b[0m \u001b[0mself\u001b[0m\u001b[0;34m.\u001b[0m\u001b[0m_sampler_iter\u001b[0m \u001b[0;32mis\u001b[0m \u001b[0;32mNone\u001b[0m\u001b[0;34m:\u001b[0m\u001b[0;34m\u001b[0m\u001b[0;34m\u001b[0m\u001b[0m\n\u001b[1;32m    520\u001b[0m                 \u001b[0mself\u001b[0m\u001b[0;34m.\u001b[0m\u001b[0m_reset\u001b[0m\u001b[0;34m(\u001b[0m\u001b[0;34m)\u001b[0m\u001b[0;34m\u001b[0m\u001b[0;34m\u001b[0m\u001b[0m\n\u001b[0;32m--> 521\u001b[0;31m             \u001b[0mdata\u001b[0m \u001b[0;34m=\u001b[0m \u001b[0mself\u001b[0m\u001b[0;34m.\u001b[0m\u001b[0m_next_data\u001b[0m\u001b[0;34m(\u001b[0m\u001b[0;34m)\u001b[0m\u001b[0;34m\u001b[0m\u001b[0;34m\u001b[0m\u001b[0m\n\u001b[0m\u001b[1;32m    522\u001b[0m             \u001b[0mself\u001b[0m\u001b[0;34m.\u001b[0m\u001b[0m_num_yielded\u001b[0m \u001b[0;34m+=\u001b[0m \u001b[0;36m1\u001b[0m\u001b[0;34m\u001b[0m\u001b[0;34m\u001b[0m\u001b[0m\n\u001b[1;32m    523\u001b[0m             \u001b[0;32mif\u001b[0m \u001b[0mself\u001b[0m\u001b[0;34m.\u001b[0m\u001b[0m_dataset_kind\u001b[0m \u001b[0;34m==\u001b[0m \u001b[0m_DatasetKind\u001b[0m\u001b[0;34m.\u001b[0m\u001b[0mIterable\u001b[0m \u001b[0;32mand\u001b[0m\u001b[0;31m \u001b[0m\u001b[0;31m\\\u001b[0m\u001b[0;34m\u001b[0m\u001b[0;34m\u001b[0m\u001b[0m\n",
            "\u001b[0;32m/usr/local/lib/python3.7/dist-packages/torch/utils/data/dataloader.py\u001b[0m in \u001b[0;36m_next_data\u001b[0;34m(self)\u001b[0m\n\u001b[1;32m    559\u001b[0m     \u001b[0;32mdef\u001b[0m \u001b[0m_next_data\u001b[0m\u001b[0;34m(\u001b[0m\u001b[0mself\u001b[0m\u001b[0;34m)\u001b[0m\u001b[0;34m:\u001b[0m\u001b[0;34m\u001b[0m\u001b[0;34m\u001b[0m\u001b[0m\n\u001b[1;32m    560\u001b[0m         \u001b[0mindex\u001b[0m \u001b[0;34m=\u001b[0m \u001b[0mself\u001b[0m\u001b[0;34m.\u001b[0m\u001b[0m_next_index\u001b[0m\u001b[0;34m(\u001b[0m\u001b[0;34m)\u001b[0m  \u001b[0;31m# may raise StopIteration\u001b[0m\u001b[0;34m\u001b[0m\u001b[0;34m\u001b[0m\u001b[0m\n\u001b[0;32m--> 561\u001b[0;31m         \u001b[0mdata\u001b[0m \u001b[0;34m=\u001b[0m \u001b[0mself\u001b[0m\u001b[0;34m.\u001b[0m\u001b[0m_dataset_fetcher\u001b[0m\u001b[0;34m.\u001b[0m\u001b[0mfetch\u001b[0m\u001b[0;34m(\u001b[0m\u001b[0mindex\u001b[0m\u001b[0;34m)\u001b[0m  \u001b[0;31m# may raise StopIteration\u001b[0m\u001b[0;34m\u001b[0m\u001b[0;34m\u001b[0m\u001b[0m\n\u001b[0m\u001b[1;32m    562\u001b[0m         \u001b[0;32mif\u001b[0m \u001b[0mself\u001b[0m\u001b[0;34m.\u001b[0m\u001b[0m_pin_memory\u001b[0m\u001b[0;34m:\u001b[0m\u001b[0;34m\u001b[0m\u001b[0;34m\u001b[0m\u001b[0m\n\u001b[1;32m    563\u001b[0m             \u001b[0mdata\u001b[0m \u001b[0;34m=\u001b[0m \u001b[0m_utils\u001b[0m\u001b[0;34m.\u001b[0m\u001b[0mpin_memory\u001b[0m\u001b[0;34m.\u001b[0m\u001b[0mpin_memory\u001b[0m\u001b[0;34m(\u001b[0m\u001b[0mdata\u001b[0m\u001b[0;34m)\u001b[0m\u001b[0;34m\u001b[0m\u001b[0;34m\u001b[0m\u001b[0m\n",
            "\u001b[0;32m/usr/local/lib/python3.7/dist-packages/torch/utils/data/_utils/fetch.py\u001b[0m in \u001b[0;36mfetch\u001b[0;34m(self, possibly_batched_index)\u001b[0m\n\u001b[1;32m     42\u001b[0m     \u001b[0;32mdef\u001b[0m \u001b[0mfetch\u001b[0m\u001b[0;34m(\u001b[0m\u001b[0mself\u001b[0m\u001b[0;34m,\u001b[0m \u001b[0mpossibly_batched_index\u001b[0m\u001b[0;34m)\u001b[0m\u001b[0;34m:\u001b[0m\u001b[0;34m\u001b[0m\u001b[0;34m\u001b[0m\u001b[0m\n\u001b[1;32m     43\u001b[0m         \u001b[0;32mif\u001b[0m \u001b[0mself\u001b[0m\u001b[0;34m.\u001b[0m\u001b[0mauto_collation\u001b[0m\u001b[0;34m:\u001b[0m\u001b[0;34m\u001b[0m\u001b[0;34m\u001b[0m\u001b[0m\n\u001b[0;32m---> 44\u001b[0;31m             \u001b[0mdata\u001b[0m \u001b[0;34m=\u001b[0m \u001b[0;34m[\u001b[0m\u001b[0mself\u001b[0m\u001b[0;34m.\u001b[0m\u001b[0mdataset\u001b[0m\u001b[0;34m[\u001b[0m\u001b[0midx\u001b[0m\u001b[0;34m]\u001b[0m \u001b[0;32mfor\u001b[0m \u001b[0midx\u001b[0m \u001b[0;32min\u001b[0m \u001b[0mpossibly_batched_index\u001b[0m\u001b[0;34m]\u001b[0m\u001b[0;34m\u001b[0m\u001b[0;34m\u001b[0m\u001b[0m\n\u001b[0m\u001b[1;32m     45\u001b[0m         \u001b[0;32melse\u001b[0m\u001b[0;34m:\u001b[0m\u001b[0;34m\u001b[0m\u001b[0;34m\u001b[0m\u001b[0m\n\u001b[1;32m     46\u001b[0m             \u001b[0mdata\u001b[0m \u001b[0;34m=\u001b[0m \u001b[0mself\u001b[0m\u001b[0;34m.\u001b[0m\u001b[0mdataset\u001b[0m\u001b[0;34m[\u001b[0m\u001b[0mpossibly_batched_index\u001b[0m\u001b[0;34m]\u001b[0m\u001b[0;34m\u001b[0m\u001b[0;34m\u001b[0m\u001b[0m\n",
            "\u001b[0;32m/usr/local/lib/python3.7/dist-packages/torch/utils/data/_utils/fetch.py\u001b[0m in \u001b[0;36m<listcomp>\u001b[0;34m(.0)\u001b[0m\n\u001b[1;32m     42\u001b[0m     \u001b[0;32mdef\u001b[0m \u001b[0mfetch\u001b[0m\u001b[0;34m(\u001b[0m\u001b[0mself\u001b[0m\u001b[0;34m,\u001b[0m \u001b[0mpossibly_batched_index\u001b[0m\u001b[0;34m)\u001b[0m\u001b[0;34m:\u001b[0m\u001b[0;34m\u001b[0m\u001b[0;34m\u001b[0m\u001b[0m\n\u001b[1;32m     43\u001b[0m         \u001b[0;32mif\u001b[0m \u001b[0mself\u001b[0m\u001b[0;34m.\u001b[0m\u001b[0mauto_collation\u001b[0m\u001b[0;34m:\u001b[0m\u001b[0;34m\u001b[0m\u001b[0;34m\u001b[0m\u001b[0m\n\u001b[0;32m---> 44\u001b[0;31m             \u001b[0mdata\u001b[0m \u001b[0;34m=\u001b[0m \u001b[0;34m[\u001b[0m\u001b[0mself\u001b[0m\u001b[0;34m.\u001b[0m\u001b[0mdataset\u001b[0m\u001b[0;34m[\u001b[0m\u001b[0midx\u001b[0m\u001b[0;34m]\u001b[0m \u001b[0;32mfor\u001b[0m \u001b[0midx\u001b[0m \u001b[0;32min\u001b[0m \u001b[0mpossibly_batched_index\u001b[0m\u001b[0;34m]\u001b[0m\u001b[0;34m\u001b[0m\u001b[0;34m\u001b[0m\u001b[0m\n\u001b[0m\u001b[1;32m     45\u001b[0m         \u001b[0;32melse\u001b[0m\u001b[0;34m:\u001b[0m\u001b[0;34m\u001b[0m\u001b[0;34m\u001b[0m\u001b[0m\n\u001b[1;32m     46\u001b[0m             \u001b[0mdata\u001b[0m \u001b[0;34m=\u001b[0m \u001b[0mself\u001b[0m\u001b[0;34m.\u001b[0m\u001b[0mdataset\u001b[0m\u001b[0;34m[\u001b[0m\u001b[0mpossibly_batched_index\u001b[0m\u001b[0;34m]\u001b[0m\u001b[0;34m\u001b[0m\u001b[0;34m\u001b[0m\u001b[0m\n",
            "\u001b[0;32m/usr/local/lib/python3.7/dist-packages/torchvision/datasets/folder.py\u001b[0m in \u001b[0;36m__getitem__\u001b[0;34m(self, index)\u001b[0m\n\u001b[1;32m    230\u001b[0m         \"\"\"\n\u001b[1;32m    231\u001b[0m         \u001b[0mpath\u001b[0m\u001b[0;34m,\u001b[0m \u001b[0mtarget\u001b[0m \u001b[0;34m=\u001b[0m \u001b[0mself\u001b[0m\u001b[0;34m.\u001b[0m\u001b[0msamples\u001b[0m\u001b[0;34m[\u001b[0m\u001b[0mindex\u001b[0m\u001b[0;34m]\u001b[0m\u001b[0;34m\u001b[0m\u001b[0;34m\u001b[0m\u001b[0m\n\u001b[0;32m--> 232\u001b[0;31m         \u001b[0msample\u001b[0m \u001b[0;34m=\u001b[0m \u001b[0mself\u001b[0m\u001b[0;34m.\u001b[0m\u001b[0mloader\u001b[0m\u001b[0;34m(\u001b[0m\u001b[0mpath\u001b[0m\u001b[0;34m)\u001b[0m\u001b[0;34m\u001b[0m\u001b[0;34m\u001b[0m\u001b[0m\n\u001b[0m\u001b[1;32m    233\u001b[0m         \u001b[0;32mif\u001b[0m \u001b[0mself\u001b[0m\u001b[0;34m.\u001b[0m\u001b[0mtransform\u001b[0m \u001b[0;32mis\u001b[0m \u001b[0;32mnot\u001b[0m \u001b[0;32mNone\u001b[0m\u001b[0;34m:\u001b[0m\u001b[0;34m\u001b[0m\u001b[0;34m\u001b[0m\u001b[0m\n\u001b[1;32m    234\u001b[0m             \u001b[0msample\u001b[0m \u001b[0;34m=\u001b[0m \u001b[0mself\u001b[0m\u001b[0;34m.\u001b[0m\u001b[0mtransform\u001b[0m\u001b[0;34m(\u001b[0m\u001b[0msample\u001b[0m\u001b[0;34m)\u001b[0m\u001b[0;34m\u001b[0m\u001b[0;34m\u001b[0m\u001b[0m\n",
            "\u001b[0;32m/usr/local/lib/python3.7/dist-packages/torchvision/datasets/folder.py\u001b[0m in \u001b[0;36mdefault_loader\u001b[0;34m(path)\u001b[0m\n\u001b[1;32m    267\u001b[0m         \u001b[0;32mreturn\u001b[0m \u001b[0maccimage_loader\u001b[0m\u001b[0;34m(\u001b[0m\u001b[0mpath\u001b[0m\u001b[0;34m)\u001b[0m\u001b[0;34m\u001b[0m\u001b[0;34m\u001b[0m\u001b[0m\n\u001b[1;32m    268\u001b[0m     \u001b[0;32melse\u001b[0m\u001b[0;34m:\u001b[0m\u001b[0;34m\u001b[0m\u001b[0;34m\u001b[0m\u001b[0m\n\u001b[0;32m--> 269\u001b[0;31m         \u001b[0;32mreturn\u001b[0m \u001b[0mpil_loader\u001b[0m\u001b[0;34m(\u001b[0m\u001b[0mpath\u001b[0m\u001b[0;34m)\u001b[0m\u001b[0;34m\u001b[0m\u001b[0;34m\u001b[0m\u001b[0m\n\u001b[0m\u001b[1;32m    270\u001b[0m \u001b[0;34m\u001b[0m\u001b[0m\n\u001b[1;32m    271\u001b[0m \u001b[0;34m\u001b[0m\u001b[0m\n",
            "\u001b[0;32m/usr/local/lib/python3.7/dist-packages/torchvision/datasets/folder.py\u001b[0m in \u001b[0;36mpil_loader\u001b[0;34m(path)\u001b[0m\n\u001b[1;32m    247\u001b[0m \u001b[0;32mdef\u001b[0m \u001b[0mpil_loader\u001b[0m\u001b[0;34m(\u001b[0m\u001b[0mpath\u001b[0m\u001b[0;34m:\u001b[0m \u001b[0mstr\u001b[0m\u001b[0;34m)\u001b[0m \u001b[0;34m->\u001b[0m \u001b[0mImage\u001b[0m\u001b[0;34m.\u001b[0m\u001b[0mImage\u001b[0m\u001b[0;34m:\u001b[0m\u001b[0;34m\u001b[0m\u001b[0;34m\u001b[0m\u001b[0m\n\u001b[1;32m    248\u001b[0m     \u001b[0;31m# open path as file to avoid ResourceWarning (https://github.com/python-pillow/Pillow/issues/835)\u001b[0m\u001b[0;34m\u001b[0m\u001b[0;34m\u001b[0m\u001b[0;34m\u001b[0m\u001b[0m\n\u001b[0;32m--> 249\u001b[0;31m     \u001b[0;32mwith\u001b[0m \u001b[0mopen\u001b[0m\u001b[0;34m(\u001b[0m\u001b[0mpath\u001b[0m\u001b[0;34m,\u001b[0m \u001b[0;34m'rb'\u001b[0m\u001b[0;34m)\u001b[0m \u001b[0;32mas\u001b[0m \u001b[0mf\u001b[0m\u001b[0;34m:\u001b[0m\u001b[0;34m\u001b[0m\u001b[0;34m\u001b[0m\u001b[0m\n\u001b[0m\u001b[1;32m    250\u001b[0m         \u001b[0mimg\u001b[0m \u001b[0;34m=\u001b[0m \u001b[0mImage\u001b[0m\u001b[0;34m.\u001b[0m\u001b[0mopen\u001b[0m\u001b[0;34m(\u001b[0m\u001b[0mf\u001b[0m\u001b[0;34m)\u001b[0m\u001b[0;34m\u001b[0m\u001b[0;34m\u001b[0m\u001b[0m\n\u001b[1;32m    251\u001b[0m         \u001b[0;32mreturn\u001b[0m \u001b[0mimg\u001b[0m\u001b[0;34m.\u001b[0m\u001b[0mconvert\u001b[0m\u001b[0;34m(\u001b[0m\u001b[0;34m'RGB'\u001b[0m\u001b[0;34m)\u001b[0m\u001b[0;34m\u001b[0m\u001b[0;34m\u001b[0m\u001b[0m\n",
            "\u001b[0;31mKeyboardInterrupt\u001b[0m: "
          ]
        }
      ]
    }
  ]
}