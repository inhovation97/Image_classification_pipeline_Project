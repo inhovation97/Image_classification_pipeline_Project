{
 "cells": [
  {
   "cell_type": "markdown",
   "metadata": {},
   "source": [
    "## <center>데이터 수집 - 전처리 - 모델구현</center>"
   ]
  },
  {
   "cell_type": "markdown",
   "metadata": {},
   "source": [
    "### 이미지 데이터 크롤링\n",
    "#### 상어와 고래의 이미지를 수집"
   ]
  },
  {
   "cell_type": "code",
   "execution_count": 1,
   "metadata": {},
   "outputs": [],
   "source": [
    "#from urllib.parse import quote_plus           # url 구문 분석을 위한 패키지\n",
    "#from bs4 import BeautifulSoup as bs           # url을 구성요소로 구문 분석하기 위한 패키지"
   ]
  },
  {
   "cell_type": "code",
   "execution_count": 2,
   "metadata": {},
   "outputs": [],
   "source": [
    "#라이브러리 불러오기\n",
    "from selenium import webdriver\n",
    "import time\n",
    "from urllib.request import (urlopen, urlparse, urlunparse, urlretrieve)"
   ]
  },
  {
   "cell_type": "code",
   "execution_count": 3,
   "metadata": {},
   "outputs": [],
   "source": [
    "# 구글 이미지 url\n",
    "# 크롬 드라이브 경로가 너무 복잡하면 에러가나기 떄문에 새로 인스톨 후 가까운 경로로 설정\n",
    "\n",
    "chrome_path ='C:\\Temp\\chromedriver.exe'\n",
    "base_url = \"https://www.google.co.kr/imghp\""
   ]
  },
  {
   "cell_type": "code",
   "execution_count": 4,
   "metadata": {
    "scrolled": false
   },
   "outputs": [
    {
     "name": "stderr",
     "output_type": "stream",
     "text": [
      "C:\\Users\\5788j\\anaconda3\\lib\\site-packages\\ipykernel_launcher.py:11: DeprecationWarning: use options instead of chrome_options\n",
      "  # This is added back by InteractiveShellApp.init_path()\n"
     ]
    }
   ],
   "source": [
    "\n",
    "chrome_options = webdriver.ChromeOptions()\n",
    "# chrome_options.add_argument('--headless') # 창 없는 모드\n",
    "# headless 모드의 호환성을 위해 아래 옵션 추가(가끔 막는 웹이 있음)\n",
    "#chrome_options.add_argument(\"user-agent=Mozilla/5.0 (Macintosh; Intel Mac OS X 10_12_6) AppleWebKit/537.36 (KHTML, like Gecko) Chrome/61.0.3163.100 Safari/537.36\")\n",
    "chrome_options.add_argument(\"lang=ko_KR\") # 한국어\n",
    "chrome_options.add_argument('window-size=1920x1080')\n",
    "# chrome_options.add_argument('--no-sandbox')\n",
    "# chrome_options.add_argument('--disable-dev-shm-usage')\n",
    "\n",
    "\n",
    "driver = webdriver.Chrome(chrome_path,chrome_options=chrome_options)\n",
    "driver.get(base_url)\n",
    "driver.implicitly_wait(3) # element가 로드될 때까지 지정한 시간만큼 대기할 수 있도록 설정\n",
    "driver.get_screenshot_as_file('google_screen.png')\n",
    "driver.close()"
   ]
  },
  {
   "cell_type": "code",
   "execution_count": 5,
   "metadata": {},
   "outputs": [],
   "source": [
    "def selenium_scroll_option():\n",
    "  SCROLL_PAUSE_SEC = 3\n",
    "  \n",
    "  # 스크롤 높이 가져옴\n",
    "  last_height = driver.execute_script(\"return document.body.scrollHeight\")\n",
    "  \n",
    "  while True:\n",
    "    # 끝까지 스크롤 다운\n",
    "    driver.execute_script(\"window.scrollTo(0, document.body.scrollHeight);\")\n",
    "\n",
    "    # 1초 대기\n",
    "    time.sleep(SCROLL_PAUSE_SEC)\n",
    "\n",
    "    # 스크롤 다운 후 스크롤 높이 다시 가져옴\n",
    "    new_height = driver.execute_script(\"return document.body.scrollHeight\")\n",
    "  \n",
    "    if new_height == last_height:\n",
    "        break\n",
    "    last_height = new_height\n"
   ]
  },
  {
   "cell_type": "code",
   "execution_count": 6,
   "metadata": {},
   "outputs": [],
   "source": [
    "# 검색어로 이미지 크롤링 하기\n",
    "shark = './shark/'\n",
    "whale = './whale/'\n",
    "dolphin= './dolphin/'"
   ]
  },
  {
   "cell_type": "markdown",
   "metadata": {},
   "source": [
    "#### xpath를 요소로 정할 때 인덱스를 지정해줘야 했음"
   ]
  },
  {
   "cell_type": "code",
   "execution_count": 8,
   "metadata": {
    "scrolled": false
   },
   "outputs": [
    {
     "name": "stdout",
     "output_type": "stream",
     "text": [
      "검색할 키워드를 입력 : shark underwater\n",
      "저장할 이미지 이름 : shark\n",
      "전체 다운로드한 이미지 개수: 500\n",
      "동일한 이미지를 제거한 이미지 개수: 496\n"
     ]
    }
   ],
   "source": [
    "from selenium import webdriver\n",
    "from selenium.webdriver.common.keys import Keys\n",
    "import time\n",
    "import urllib.request\n",
    "import os\n",
    "import pandas as pd\n",
    "\n",
    "# 키워드 검색하기\n",
    "\n",
    "a=input(\"검색할 키워드를 입력 : \")\n",
    "image_name = input(\"저장할 이미지 이름 : \")\n",
    "#b=int(input(\"몇 개 저장할래? : \"))\n",
    "driver = webdriver.Chrome(chrome_path)\n",
    "driver.get('http://www.google.co.kr/imghp?hl=ko')\n",
    "browser = driver.find_element_by_name(\"q\")\n",
    "browser.send_keys(a)\n",
    "browser.send_keys(Keys.RETURN)\n",
    "\n",
    "\n",
    "\n",
    "# 클래스를 찾고 해당 클래스의 src 리스트를 만들자\n",
    "\n",
    "selenium_scroll_option() # 스크롤하여 이미지를 많이 확보\n",
    "driver.find_elements_by_xpath('//*[@id=\"islmp\"]/div/div/div/div/div[3]/div[2]/input')[0].click() # 이미지 더보기 클릭\n",
    "selenium_scroll_option()\n",
    "\n",
    "\n",
    "\n",
    "'''이미지 src요소를 리스트업해서 이미지 url 저장'''\n",
    "\n",
    "images = driver.find_elements_by_css_selector(\".rg_i.Q4LuWd\") #  클래스 네임에서 공백은 .을 찍어줌\n",
    "images_url = []\n",
    "for i in images: \n",
    "   \n",
    "   if i.get_attribute('src')!= None :\n",
    "        images_url.append(i.get_attribute('src'))\n",
    "   else :\n",
    "       images_url.append(i.get_attribute('data-src'))\n",
    "driver.close()\n",
    "\n",
    "\n",
    "\n",
    "# 겹치는 이미지 url 제거\n",
    "\n",
    "print(\"전체 다운로드한 이미지 개수: {}\\n동일한 이미지를 제거한 이미지 개수: {}\".format(len(images_url), len(pd.DataFrame(images_url)[0].unique())))\n",
    "images_url=pd.DataFrame(images_url)[0].unique()\n",
    "\n",
    "\n",
    "        \n",
    "#'''해당하는 파일에 이미지 다운로드'''        \n",
    "#        \n",
    "#if image_name == 'shark' :   \n",
    "#   for t, url in enumerate(images_url, 0):        \n",
    "#      urlretrieve(url, shark + image_name + '_' + str(t) + '.jpg')\n",
    "#   driver.close()\n",
    "#   \n",
    "#elif image_name == 'whale' :\n",
    "#   for t, url in enumerate(images_url, 0):        \n",
    "#      urlretrieve(url, whale + image_name + '_' + str(t) + '.jpg')\n",
    "#   driver.close()    \n",
    "#\n",
    "#elif image_name == 'dolphin' :\n",
    "#   for t, url in enumerate(images_url, 0):        \n",
    "#      urlretrieve(url, dolphin + image_name + '_' + str(t) + '.jpg')\n",
    "#   driver.close()\n",
    "#"
   ]
  }
 ],
 "metadata": {
  "kernelspec": {
   "display_name": "Python 3",
   "language": "python",
   "name": "python3"
  },
  "language_info": {
   "codemirror_mode": {
    "name": "ipython",
    "version": 3
   },
   "file_extension": ".py",
   "mimetype": "text/x-python",
   "name": "python",
   "nbconvert_exporter": "python",
   "pygments_lexer": "ipython3",
   "version": "3.7.7"
  }
 },
 "nbformat": 4,
 "nbformat_minor": 4
}
